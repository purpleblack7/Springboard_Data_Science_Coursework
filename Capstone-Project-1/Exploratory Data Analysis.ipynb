{
 "cells": [
  {
   "cell_type": "markdown",
   "metadata": {},
   "source": [
    "# Exploratory Data Analysis\n",
    "\n",
    "This notebook explores the data cleaned in the Data Wrangling notebook to see what the data looks like."
   ]
  },
  {
   "cell_type": "markdown",
   "metadata": {},
   "source": [
    "## Step 1 : Import required packages"
   ]
  },
  {
   "cell_type": "code",
   "execution_count": 1,
   "metadata": {},
   "outputs": [],
   "source": [
    "import os\n",
    "import pandas as pd\n",
    "import numpy as np\n",
    "import pickle\n",
    "import matplotlib.pyplot as plt\n"
   ]
  },
  {
   "cell_type": "markdown",
   "metadata": {},
   "source": [
    "## Step 2 : Import the pickled files\n",
    "\n",
    "It's time to import the files saved from the Data Wrangling Notebook.\n",
    "\n",
    "\n",
    "P.S - I know my method of importing is inefficient. I'll try to work on it later."
   ]
  },
  {
   "cell_type": "code",
   "execution_count": 2,
   "metadata": {},
   "outputs": [],
   "source": [
    "os.chdir('/Users/purpleblack/Documents/Learning/Springboard/Capstone Project 1/The Project/Pickled files')\n",
    "#pickled_list = [real_title_dtm,real_text_dtm,fake_title_dtm,fake_text_dtm]\n",
    "\n",
    "\n",
    "file = open('real_title_dtm.pkl','rb')\n",
    "real_title_dtm = pickle.load(file)\n",
    "file = open('real_text_dtm.pkl','rb')\n",
    "real_text_dtm = pickle.load(file)\n",
    "    \n",
    "file = open('fake_title_dtm.pkl','rb')\n",
    "fake_title_dtm = pickle.load(file)\n",
    "file = open('fake_text_dtm.pkl','rb')\n",
    "fake_text_dtm = pickle.load(file)\n",
    "                \n",
    "file = open('cleaned_dataset.pkl','rb')\n",
    "dataset = pickle.load(file)"
   ]
  },
  {
   "cell_type": "code",
   "execution_count": 3,
   "metadata": {},
   "outputs": [
    {
     "data": {
      "text/html": [
       "<div>\n",
       "<style scoped>\n",
       "    .dataframe tbody tr th:only-of-type {\n",
       "        vertical-align: middle;\n",
       "    }\n",
       "\n",
       "    .dataframe tbody tr th {\n",
       "        vertical-align: top;\n",
       "    }\n",
       "\n",
       "    .dataframe thead th {\n",
       "        text-align: right;\n",
       "    }\n",
       "</style>\n",
       "<table border=\"1\" class=\"dataframe\">\n",
       "  <thead>\n",
       "    <tr style=\"text-align: right;\">\n",
       "      <th></th>\n",
       "      <th>title</th>\n",
       "      <th>text</th>\n",
       "      <th>subject</th>\n",
       "      <th>Real/Fake</th>\n",
       "    </tr>\n",
       "  </thead>\n",
       "  <tbody>\n",
       "    <tr>\n",
       "      <th>44893</th>\n",
       "      <td>mcpain john mccain furious that iran treated u...</td>\n",
       "      <td>century wire says as  reported earlier this w...</td>\n",
       "      <td>Middle-east</td>\n",
       "      <td>FAKE</td>\n",
       "    </tr>\n",
       "    <tr>\n",
       "      <th>44894</th>\n",
       "      <td>justice yahoo settles email privacy classactio...</td>\n",
       "      <td>century wire says it s a familiar theme whene...</td>\n",
       "      <td>Middle-east</td>\n",
       "      <td>FAKE</td>\n",
       "    </tr>\n",
       "    <tr>\n",
       "      <th>44895</th>\n",
       "      <td>sunnistan us and allied ‘safe zone’ plan to ta...</td>\n",
       "      <td>patrick henningsen   century wireremember when...</td>\n",
       "      <td>Middle-east</td>\n",
       "      <td>FAKE</td>\n",
       "    </tr>\n",
       "    <tr>\n",
       "      <th>44896</th>\n",
       "      <td>how to blow  million al jazeera america finall...</td>\n",
       "      <td>century wire says al jazeera america will go ...</td>\n",
       "      <td>Middle-east</td>\n",
       "      <td>FAKE</td>\n",
       "    </tr>\n",
       "    <tr>\n",
       "      <th>44897</th>\n",
       "      <td>us navy sailors held by iranian military – si...</td>\n",
       "      <td>century wire says as  predicted in its new ye...</td>\n",
       "      <td>Middle-east</td>\n",
       "      <td>FAKE</td>\n",
       "    </tr>\n",
       "  </tbody>\n",
       "</table>\n",
       "</div>"
      ],
      "text/plain": [
       "                                                   title  \\\n",
       "44893  mcpain john mccain furious that iran treated u...   \n",
       "44894  justice yahoo settles email privacy classactio...   \n",
       "44895  sunnistan us and allied ‘safe zone’ plan to ta...   \n",
       "44896  how to blow  million al jazeera america finall...   \n",
       "44897   us navy sailors held by iranian military – si...   \n",
       "\n",
       "                                                    text      subject  \\\n",
       "44893   century wire says as  reported earlier this w...  Middle-east   \n",
       "44894   century wire says it s a familiar theme whene...  Middle-east   \n",
       "44895  patrick henningsen   century wireremember when...  Middle-east   \n",
       "44896   century wire says al jazeera america will go ...  Middle-east   \n",
       "44897   century wire says as  predicted in its new ye...  Middle-east   \n",
       "\n",
       "      Real/Fake  \n",
       "44893      FAKE  \n",
       "44894      FAKE  \n",
       "44895      FAKE  \n",
       "44896      FAKE  \n",
       "44897      FAKE  "
      ]
     },
     "execution_count": 3,
     "metadata": {},
     "output_type": "execute_result"
    }
   ],
   "source": [
    "dataset.tail()"
   ]
  },
  {
   "cell_type": "markdown",
   "metadata": {},
   "source": [
    "## Step 3: Find the total count of Fake and Real News"
   ]
  },
  {
   "cell_type": "code",
   "execution_count": 25,
   "metadata": {},
   "outputs": [
    {
     "data": {
      "text/plain": [
       "23481"
      ]
     },
     "execution_count": 25,
     "metadata": {},
     "output_type": "execute_result"
    }
   ],
   "source": [
    "fake_count = pd.DataFrame() \n",
    "fake_count = len(dataset[dataset['Real/Fake']=='FAKE'])\n",
    "real_count = pd.DataFrame()\n",
    "real_count = len(dataset[dataset['Real/Fake']=='REAL'])"
   ]
  },
  {
   "cell_type": "code",
   "execution_count": 136,
   "metadata": {},
   "outputs": [
    {
     "data": {
      "image/png": "[encoded data removed]",
      "text/plain": [
       "<Figure size 576x360 with 1 Axes>"
      ]
     },
     "metadata": {
      "needs_background": "light"
     },
     "output_type": "display_data"
    }
   ],
   "source": [
    "width = 0.5\n",
    "_ = pd.DataFrame(dataset['Real/Fake'].value_counts()).T.plot.bar(width = width,figsize=(8,5),use_index = False,color = ['black','skyblue'])\n",
    "_ = plt.xlabel('News Type')\n",
    "_ = plt.ylabel('Frequency')\n",
    "_ = plt.ylim(18000,24000,1000)\n",
    "plt.show()"
   ]
  },
  {
   "cell_type": "code",
   "execution_count": 139,
   "metadata": {},
   "outputs": [
    {
     "data": {
      "image/png": "[encoded data removed]",
      "text/plain": [
       "<Figure size 576x360 with 1 Axes>"
      ]
     },
     "metadata": {
      "needs_background": "light"
     },
     "output_type": "display_data"
    }
   ],
   "source": [
    "width = 0.5\n",
    "_ = pd.DataFrame(dataset['Real/Fake'].value_counts()).T.plot.bar(width = width,figsize=(8,5),use_index = False,color = ['black','skyblue'])\n",
    "_ = plt.xlabel('News Type')\n",
    "_ = plt.ylabel('Frequency')\n",
    "_ = plt.xticks([]) #Gets rid of the '0' at the bottom\n",
    "_ = plt.ylim(18000,24000,1000)\n",
    "plt.show()"
   ]
  },
  {
   "cell_type": "markdown",
   "metadata": {},
   "source": [
    "## Step 4: Find the spread of the categories of both Fake and Real news"
   ]
  },
  {
   "cell_type": "code",
   "execution_count": 154,
   "metadata": {},
   "outputs": [],
   "source": [
    "#Segregating the fake and real datasets\n",
    "fake = dataset[dataset['Real/Fake']=='FAKE']\n",
    "real = dataset[dataset['Real/Fake']=='REAL']"
   ]
  },
  {
   "cell_type": "code",
   "execution_count": 141,
   "metadata": {},
   "outputs": [
    {
     "data": {
      "text/html": [
       "<div>\n",
       "<style scoped>\n",
       "    .dataframe tbody tr th:only-of-type {\n",
       "        vertical-align: middle;\n",
       "    }\n",
       "\n",
       "    .dataframe tbody tr th {\n",
       "        vertical-align: top;\n",
       "    }\n",
       "\n",
       "    .dataframe thead th {\n",
       "        text-align: right;\n",
       "    }\n",
       "</style>\n",
       "<table border=\"1\" class=\"dataframe\">\n",
       "  <thead>\n",
       "    <tr style=\"text-align: right;\">\n",
       "      <th></th>\n",
       "      <th>title</th>\n",
       "      <th>text</th>\n",
       "      <th>subject</th>\n",
       "      <th>Real/Fake</th>\n",
       "    </tr>\n",
       "  </thead>\n",
       "  <tbody>\n",
       "    <tr>\n",
       "      <th>21417</th>\n",
       "      <td>donald trump sends out embarrassing new year’...</td>\n",
       "      <td>donald trump just couldn t wish all americans ...</td>\n",
       "      <td>News</td>\n",
       "      <td>FAKE</td>\n",
       "    </tr>\n",
       "    <tr>\n",
       "      <th>21418</th>\n",
       "      <td>drunk bragging trump staffer started russian ...</td>\n",
       "      <td>house intelligence committee chairman devin nu...</td>\n",
       "      <td>News</td>\n",
       "      <td>FAKE</td>\n",
       "    </tr>\n",
       "    <tr>\n",
       "      <th>21419</th>\n",
       "      <td>sheriff david clarke becomes an internet joke...</td>\n",
       "      <td>on friday it was revealed that former milwauke...</td>\n",
       "      <td>News</td>\n",
       "      <td>FAKE</td>\n",
       "    </tr>\n",
       "    <tr>\n",
       "      <th>21420</th>\n",
       "      <td>trump is so obsessed he even has obama’s name...</td>\n",
       "      <td>on christmas day donald trump announced that h...</td>\n",
       "      <td>News</td>\n",
       "      <td>FAKE</td>\n",
       "    </tr>\n",
       "    <tr>\n",
       "      <th>21421</th>\n",
       "      <td>pope francis just called out donald trump dur...</td>\n",
       "      <td>pope francis used his annual christmas day mes...</td>\n",
       "      <td>News</td>\n",
       "      <td>FAKE</td>\n",
       "    </tr>\n",
       "  </tbody>\n",
       "</table>\n",
       "</div>"
      ],
      "text/plain": [
       "                                                   title  \\\n",
       "21417   donald trump sends out embarrassing new year’...   \n",
       "21418   drunk bragging trump staffer started russian ...   \n",
       "21419   sheriff david clarke becomes an internet joke...   \n",
       "21420   trump is so obsessed he even has obama’s name...   \n",
       "21421   pope francis just called out donald trump dur...   \n",
       "\n",
       "                                                    text subject Real/Fake  \n",
       "21417  donald trump just couldn t wish all americans ...    News      FAKE  \n",
       "21418  house intelligence committee chairman devin nu...    News      FAKE  \n",
       "21419  on friday it was revealed that former milwauke...    News      FAKE  \n",
       "21420  on christmas day donald trump announced that h...    News      FAKE  \n",
       "21421  pope francis used his annual christmas day mes...    News      FAKE  "
      ]
     },
     "execution_count": 141,
     "metadata": {},
     "output_type": "execute_result"
    }
   ],
   "source": [
    "#Exploring the fake dataset\n",
    "fake.head()"
   ]
  },
  {
   "cell_type": "code",
   "execution_count": 156,
   "metadata": {},
   "outputs": [
    {
     "data": {
      "text/html": [
       "<div>\n",
       "<style scoped>\n",
       "    .dataframe tbody tr th:only-of-type {\n",
       "        vertical-align: middle;\n",
       "    }\n",
       "\n",
       "    .dataframe tbody tr th {\n",
       "        vertical-align: top;\n",
       "    }\n",
       "\n",
       "    .dataframe thead th {\n",
       "        text-align: right;\n",
       "    }\n",
       "</style>\n",
       "<table border=\"1\" class=\"dataframe\">\n",
       "  <thead>\n",
       "    <tr style=\"text-align: right;\">\n",
       "      <th></th>\n",
       "      <th>title</th>\n",
       "      <th>text</th>\n",
       "      <th>subject</th>\n",
       "      <th>Real/Fake</th>\n",
       "    </tr>\n",
       "  </thead>\n",
       "  <tbody>\n",
       "    <tr>\n",
       "      <th>0</th>\n",
       "      <td>as us budget fight looms republicans flip thei...</td>\n",
       "      <td>washington  administration has already been wi...</td>\n",
       "      <td>politicsNews</td>\n",
       "      <td>REAL</td>\n",
       "    </tr>\n",
       "    <tr>\n",
       "      <th>1</th>\n",
       "      <td>us military to accept transgender recruits on ...</td>\n",
       "      <td>washington   transgender people will be allowe...</td>\n",
       "      <td>politicsNews</td>\n",
       "      <td>REAL</td>\n",
       "    </tr>\n",
       "    <tr>\n",
       "      <th>2</th>\n",
       "      <td>senior us republican senator let mr mueller do...</td>\n",
       "      <td>washington  several members of the trump campa...</td>\n",
       "      <td>politicsNews</td>\n",
       "      <td>REAL</td>\n",
       "    </tr>\n",
       "    <tr>\n",
       "      <th>3</th>\n",
       "      <td>fbi russia probe helped by australian diplomat...</td>\n",
       "      <td>washington   trump campaign adviser george pap...</td>\n",
       "      <td>politicsNews</td>\n",
       "      <td>REAL</td>\n",
       "    </tr>\n",
       "    <tr>\n",
       "      <th>4</th>\n",
       "      <td>trump wants postal service to charge much more...</td>\n",
       "      <td>seattlewashington  the other biggest players i...</td>\n",
       "      <td>politicsNews</td>\n",
       "      <td>REAL</td>\n",
       "    </tr>\n",
       "  </tbody>\n",
       "</table>\n",
       "</div>"
      ],
      "text/plain": [
       "                                               title  \\\n",
       "0  as us budget fight looms republicans flip thei...   \n",
       "1  us military to accept transgender recruits on ...   \n",
       "2  senior us republican senator let mr mueller do...   \n",
       "3  fbi russia probe helped by australian diplomat...   \n",
       "4  trump wants postal service to charge much more...   \n",
       "\n",
       "                                                text       subject Real/Fake  \n",
       "0  washington  administration has already been wi...  politicsNews      REAL  \n",
       "1  washington   transgender people will be allowe...  politicsNews      REAL  \n",
       "2  washington  several members of the trump campa...  politicsNews      REAL  \n",
       "3  washington   trump campaign adviser george pap...  politicsNews      REAL  \n",
       "4  seattlewashington  the other biggest players i...  politicsNews      REAL  "
      ]
     },
     "execution_count": 156,
     "metadata": {},
     "output_type": "execute_result"
    }
   ],
   "source": [
    "#Exploring the real dataset\n",
    "real.head()"
   ]
  },
  {
   "cell_type": "code",
   "execution_count": 159,
   "metadata": {},
   "outputs": [],
   "source": [
    "fake_cat_count = fake.subject.value_counts()\n",
    "real_cat_count = real.subject.value_counts()"
   ]
  },
  {
   "cell_type": "code",
   "execution_count": 167,
   "metadata": {},
   "outputs": [
    {
     "data": {
      "image/png": "[encoded data removed]",
      "text/plain": [
       "<Figure size 720x576 with 2 Axes>"
      ]
     },
     "metadata": {
      "needs_background": "light"
     },
     "output_type": "display_data"
    }
   ],
   "source": [
    "_ = plt.figure(figsize = (10,8))\n",
    "_ = plt.subplot(1,2,1)\n",
    "_ = fake_cat_count.plot.bar()\n",
    "_ = plt.subplot(1,2,2)\n",
    "_ = real_cat_count.plot.bar(width = 0.3)"
   ]
  },
  {
   "cell_type": "markdown",
   "metadata": {},
   "source": [
    "Although nothing meaningful can be taken from this chart, it shows that the fake dataset is more diverse(or better categorized). "
   ]
  },
  {
   "cell_type": "markdown",
   "metadata": {},
   "source": [
    "# And that's the Exploratory Data Analysis Done!"
   ]
  }
 ],
 "metadata": {
  "kernelspec": {
   "display_name": "Python 3",
   "language": "python",
   "name": "python3"
  },
  "language_info": {
   "codemirror_mode": {
    "name": "ipython",
    "version": 3
   },
   "file_extension": ".py",
   "mimetype": "text/x-python",
   "name": "python",
   "nbconvert_exporter": "python",
   "pygments_lexer": "ipython3",
   "version": "3.8.2"
  }
 },
 "nbformat": 4,
 "nbformat_minor": 4
}
